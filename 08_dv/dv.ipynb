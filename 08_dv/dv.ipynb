{
 "cells": [
  {
   "cell_type": "markdown",
   "source": [
    "# Data visualisation\n",
    "\n",
    "\n",
    "\n",
    "\n",
    "[Matplotlib](https://matplotlib.org) is the most commonly used visualisation library in Python. It provides 2D basic, statistical, coordinate and 3D plots. We shortly introduce matplotlib in this session, however, most visualisations will be done with [Seaborn](https://seaborn.pydata.org) which is based on `Matplotlib` with more sophisticated plot methods. Seaborn is built on top of Matplotlib and hides most low-level interactions with Matplotlib. With Seaborn similar visualisations can be achieved in different ways, which may seem confusing, but it also provides flexibility.\n",
    "\n",
    "\n",
    "### Outline\n",
    "\n",
    "- Data preparation :\n",
    "    - Reshape : long and wide format\n",
    "    - Join DataFrames : left/right/inner/outer\n",
    "- Matplotlib basics\n",
    "- Seaborn\n",
    "    - Univariate plots\n",
    "    - Bivariate plots\n",
    "    - Axes-level and Grid-level\n",
    "    - FacetGrid\n"
   ],
   "metadata": {
    "collapsed": false
   }
  },
  {
   "cell_type": "code",
   "source": [
    "import numpy as np\n",
    "import pandas as pd\n",
    "rng = np.random.default_rng(42)"
   ],
   "metadata": {
    "collapsed": false
   },
   "outputs": [],
   "execution_count": null
  },
  {
   "metadata": {},
   "cell_type": "markdown",
   "source": [
    "## Join DataFrames\n",
    "\n",
    "We have already seen how to concatenate (`pd.concat`) DataFrames on a certain axis. There are situations where we would like to join DataFrames based on values of variable(s) also known as `key(s)`. This can be done with the function `DataFrame.merge`. Let `df1` and `df2` be DataFrames with common key(s) then:\n",
    "\n",
    "**Synopsis: &nbsp; &nbsp;**<tt>df1.merge(df2, on=None, how='inner',...)</tt>\n",
    "- on: variable(s) in both DataFrames, known as key(s)\n",
    "- how: {left, right, outer, inner}, with 'inner' as default\n",
    "\n",
    "will return a Dataframe with all columns in df1 and df2 where a match was found on the given key(s).  The merge result can be controlled by `how` argument:\n",
    "\n",
    "| Join Type | Description |\n",
    "| --- | --- |\n",
    "| **Inner** | Returns only rows that have matching keys in both DataFrames. |\n",
    "| **Outer** | Returns all rows from both DataFrames. Fills in missing values as `NaN` for keys that don't overlap. |\n",
    "| **Left** | Returns all rows from the left DataFrame and matches rows from the right DataFrame. |\n",
    "| **Right** | Returns all rows from the right DataFrame and matches rows from the left DataFrame. |\n",
    "\n"
   ]
  },
  {
   "metadata": {
    "collapsed": false
   },
   "cell_type": "code",
   "source": [
    "import names\n",
    "name_pool =  [names.get_first_name() for _ in range(10)]\n",
    "df1 = pd.DataFrame({'name': rng.choice(name_pool,5, replace=False) , 'age':  rng.choice(range(18,80),5) })\n",
    "df2 = pd.DataFrame({'name': rng.choice(name_pool,5, replace=False) , 'height':  rng.choice(range(150,190),5) })"
   ],
   "outputs": [],
   "execution_count": null
  },
  {
   "metadata": {
    "collapsed": false
   },
   "cell_type": "code",
   "source": [
    "df1.merge(df2, on='name') # default how='inner'\n",
    "df1.merge(df2, how='outer', on='name') # default how='inner'"
   ],
   "outputs": [],
   "execution_count": null
  },
  {
   "metadata": {},
   "cell_type": "markdown",
   "source": "The `key` or `keys` are constrained by their uniqueness. A non-unique key value when merging data 'may' lead to inconsistencies. You can check uniqueness with `duplicated` method:"
  },
  {
   "metadata": {},
   "cell_type": "code",
   "source": "df1.name.duplicated().sum(), df2.name.duplicated().sum()",
   "outputs": [],
   "execution_count": null
  },
  {
   "cell_type": "markdown",
   "source": [
    "## Data preparation\n",
    "\n",
    "We will use the dataset [Framingham Heart Study](https://www.framinghamheartstudy.org/) ([Wikipedia](https://en.wikipedia.org/wiki/Framingham_Heart_Study)) with 4434 observations:\n",
    "\n",
    "\n",
    "  - categorical :\n",
    "    - general: SEX, CURSMOKE, EDUC,\n",
    "    - events : ANGINA, HOSPMI,  STROKE, CVD, HYPERTEN, DEATH\n",
    "  - discrete : AGE, RANDID, HEARTRTE\n",
    "  - continuous : SYSBP, DIABP, BPMEDS, BMI\n",
    "\n",
    "See also the end of this document for variables descriptions."
   ],
   "metadata": {
    "collapsed": false
   }
  },
  {
   "cell_type": "code",
   "source": "fmh = pd.read_csv(\"data/framingham.csv\")",
   "metadata": {
    "collapsed": false
   },
   "outputs": [],
   "execution_count": null
  },
  {
   "cell_type": "markdown",
   "source": [
    "### Reshape\n",
    "\n",
    "Same data may be organised in different ways depending on the context. Columns may become categories (long format) and vice versa, categories will become columns (wide format). Often data must be transformed into the proper shape for visualisation.\n"
   ],
   "metadata": {
    "collapsed": false
   }
  },
  {
   "cell_type": "markdown",
   "source": [
    "#### Wide to long : `pd.melt`\n",
    "\n",
    "**Synopsis: &nbsp; &nbsp;**<tt>pandas.melt(frame, id_vars=None, value_vars=None, var_name=None, value_name='value')</tt>\n",
    "- frame: DataFrame to reshape\n",
    "- id_vars : variables to be kept\n",
    "- value_vars : variables to be collected as a new categorical variable\n",
    "- var_name : category name\n",
    "- value_name : category values\n",
    "\n",
    "To illustrate we will take a small sample of three events {ANGINA,CVD,DEATH} along with the `RANDID`:"
   ],
   "metadata": {
    "collapsed": false
   }
  },
  {
   "cell_type": "code",
   "source": [
    "df = fmh[[\"RANDID\", \"ANGINA\", \"CVD\", \"DEATH\"]].head(3)\n",
    "df"
   ],
   "metadata": {
    "collapsed": false
   },
   "outputs": [],
   "execution_count": null
  },
  {
   "cell_type": "code",
   "source": [
    "df_long = pd.melt(frame=df, id_vars='RANDID', value_vars=[\"ANGINA\", \"CVD\", \"DEATH\"], var_name='EVENT', value_name='VALUE')\n",
    "df_long"
   ],
   "metadata": {
    "collapsed": false
   },
   "outputs": [],
   "execution_count": null
  },
  {
   "cell_type": "markdown",
   "source": [
    "#### Long to wide : `pivot`\n",
    "\n",
    "\n",
    "**Synopsis: &nbsp; &nbsp;**<tt>DataFrame.pivot(index=None, columns=None, values=None)</tt>\n",
    "- index : column to set as index\n",
    "- columns : variable containing the column names\n",
    "- values : variable containing the values all"
   ],
   "metadata": {
    "collapsed": false
   }
  },
  {
   "cell_type": "code",
   "source": [
    "df_wide = df_long.pivot(index='RANDID', columns='EVENT', values='VALUE') # .reset_index().rename_axis(None,axis=1)\n",
    "df_wide"
   ],
   "metadata": {
    "collapsed": false
   },
   "outputs": [],
   "execution_count": null
  },
  {
   "cell_type": "markdown",
   "source": "## Matplotlib basics",
   "metadata": {
    "collapsed": false
   }
  },
  {
   "metadata": {},
   "cell_type": "code",
   "source": "import matplotlib.pyplot as plt",
   "outputs": [],
   "execution_count": null
  },
  {
   "metadata": {},
   "cell_type": "markdown",
   "source": "In order to quickly plot the data on default figure and axes we can use [pyplot.*](https://matplotlib.org/stable/api/pyplot_summary.html) plots. It will create a figure and axes silently."
  },
  {
   "cell_type": "code",
   "source": [
    "# single plot ; line\n",
    "x_ = rng.standard_normal(100)\n",
    "plt.plot(x_);                   # linestyle='--', color='orange', linewidth=2, alpha=0.5\n",
    "# plt.plot(range(len(x_)),x_)   # <=> plot(x_)\n",
    "# plt.hist(x_, bins=10)\n",
    "# plt.boxplot(x_);\n",
    "# plt.ecdf(x_)\n",
    "plt.xlabel('X')\n",
    "plt.ylabel('Y')\n",
    "plt.title('Not my first plot')\n",
    "plt.legend(['Standard Normal'])"
   ],
   "metadata": {
    "collapsed": false
   },
   "outputs": [],
   "execution_count": null
  },
  {
   "metadata": {},
   "cell_type": "markdown",
   "source": "You may need to manage multiple figures simultaneously and be able to have more control over the figure attributes such as figure size and resolution (DPI).\n"
  },
  {
   "cell_type": "code",
   "source": [
    "# single figure with a single plot\n",
    "fig = plt.figure()\n",
    "ax = fig.add_subplot()\n",
    "ax.plot(x_)\n",
    "ax.set_title('Not my first plot')\n",
    "ax.set_xlabel('X')\n",
    "ax.set_ylabel('Y')\n",
    "ax.set_ylim([-5,5]);"
   ],
   "metadata": {
    "collapsed": false
   },
   "outputs": [],
   "execution_count": null
  },
  {
   "cell_type": "code",
   "source": [
    "# multiple plots\n",
    "x_ = rng.standard_normal(50)\n",
    "y_ = rng.standard_normal(50)\n",
    "fig, axes = plt.subplots(2,2) # sharex, sharey, figsize, dpi\n",
    "axes[0,0].plot(x_)\n",
    "axes[0,1].hist(x_)\n",
    "axes[1,0].scatter(x_,y_)\n",
    "axes[1,1].boxplot([x_,y_]);"
   ],
   "metadata": {
    "collapsed": false
   },
   "outputs": [],
   "execution_count": null
  },
  {
   "metadata": {},
   "cell_type": "markdown",
   "source": [
    "## Exercise : merge/reshape\n",
    "\n",
    "1) The `diamonds` dataset  is included in the data folder of this session.\n",
    "\n",
    " - a) Plot price against volume (x\\*y\\*z).\n",
    " - b) The same plot as (a) but only for entries with `volume` >0 and <600.\n",
    " - c) Set point size=.5 and transparency=.5.\n",
    " - d) Colour data points per `cut`. You can use the `c` argument for colour.\n",
    " - e) Add legend  with `plt.legend` for the cut and the corresponding colours. (advanced, optional)\n",
    " - f) Set labels and title"
   ]
  },
  {
   "cell_type": "markdown",
   "source": [
    "\n",
    "## Seaborn\n",
    "\n",
    "The Seaborn library is organised with modules focussing on  [relational](https://seaborn.pydata.org/tutorial/relational.html), [distributional](https://seaborn.pydata.org/tutorial/distributions.html) and [categorical](https://seaborn.pydata.org/tutorial/categorical.html) topics. These modules provide the so-called figure-level plots whereas corresponding plots in the base Seaborn are axes-level plots.\n",
    "\n",
    "\n",
    "**Axes-level Synopsis:** nbsp; &nbsp;**<tt>sb.{plot-func}(data, x, y, hue, ...)</tt>\n",
    "\n",
    "**Figure-level Synopsis:** nbsp; &nbsp;**<tt>sb.{relplot | catplot | displot}(data, x, y, hue, kind,  ...)</tt>\n",
    "\n",
    "    - data: DataFrame, ...\n",
    "    - x,y: are variables inside data to be plotted\n",
    "    - hue: grouping colours\n",
    "    - kind : for each category a set of plots is defined, e.g. relplot(kind='line', ...)\n",
    "\n",
    "### Axes vs figure-level plots\n",
    "\n",
    "| **Aspect** | **Axes-Level Plots** | **Grid-Level Plots** |\n",
    "| --- | --- | --- |\n",
    "| **Definition** | Focuses on creating individual plots on a single `Axes`. | Manages multiple subplots using a grid layout. |\n",
    "| **Examples of Functions** | `sns.boxplot()`, `sns.violinplot()`, `sns.histplot()` | `sns.catplot()`, `sns.relplot()`, `sns.lmplot()` |\n",
    "| **Use Case** | Simple, single plots (one Axes). | Facet-based plots split across categorical variables. |\n",
    "| **Figure/Layout Control** | Requires manual control using Matplotlib (`plt.figure`, `plt.subplots`). | Automatically manages figure size and layout. |\n",
    "| **Facet/Grid Support** | Does not support splitting into facets. | Supports splitting data into facets using `col`, `row`. |\n",
    "| **Customization Scope** | Customize using Matplotlib functions directly, e.g., `plt.title()`, `plt.xlabel()`. | Use Seaborn’s `.set()` method or access `.fig` for full figure adjustments. |\n",
    "| **Size Control** | Use Matplotlib's `plt.figure(figsize=(w, h))`. | Use `height` (per subplot height) and `aspect` (aspect ratio). |\n",
    "| **Example Functionality** | `sns.boxplot(x='var', y='value', data=dataset)` | `sns.catplot(x='var', y='value', col='category', data=dataset)` |\n",
    "| **Output Object** | Returns an `Axes` object. | Returns a grid object (e.g., `FacetGrid` or `RelationalGrid`). |"
   ],
   "metadata": {
    "collapsed": false
   }
  },
  {
   "cell_type": "code",
   "source": "import seaborn as sns",
   "metadata": {
    "collapsed": false
   },
   "outputs": [],
   "execution_count": null
  },
  {
   "cell_type": "markdown",
   "source": [
    "### Univariate plots\n",
    "\n",
    "- categorical : countplot\n",
    "- continious: histogram, boxplot, violinplot, kdeplot, ecdfplot\n"
   ],
   "metadata": {
    "collapsed": false
   }
  },
  {
   "metadata": {},
   "cell_type": "code",
   "source": "ax = sns.countplot(data=fmh,x='SEX', hue='DEATH') # y='SEX', stat={'precent',...}",
   "outputs": [],
   "execution_count": null
  },
  {
   "metadata": {},
   "cell_type": "markdown",
   "source": [
    "### sns.hist\n",
    "\n",
    "Seaborn is built on top of Matplotlib, and the two interact seamlessly:"
   ]
  },
  {
   "cell_type": "code",
   "source": [
    "# Create a 2x2 grid plots\n",
    "fig, axes = plt.subplots(2,2)\n",
    "\n",
    "# add labels and titles\n",
    "fig.suptitle(\"Diastolic and Systolic blood pressure\")\n",
    "axes[0,0].set_title(\"Systolic\")\n",
    "axes[0,1].set_title(\"Diastolic\")\n",
    "\n",
    "# place different plots inside the grid\n",
    "sns.histplot(data=fmh,x='SYSBP', hue='SEX', ax=axes[0,0])\n",
    "sns.histplot(data=fmh,x='DIABP', hue='SEX', ax=axes[0,1])\n",
    "sns.histplot(data=fmh,x='SYSBP', hue='HYPERTEN', ax=axes[1,0])\n",
    "sns.histplot(data=fmh,x='DIABP', hue='HYPERTEN', ax=axes[1,1])\n",
    "\n",
    "# adjust horizontal space between plots see subplots_adjust for more options.\n",
    "fig.subplots_adjust(hspace=.4) # [subplots_adjust](https://matplotlib.org/stable/api/_as_gen/matplotlib.pyplot.subplots_adjust.html)"
   ],
   "metadata": {
    "collapsed": false
   },
   "outputs": [],
   "execution_count": null
  },
  {
   "metadata": {},
   "cell_type": "markdown",
   "source": "**Quiz:** change the labels in the legends for SEX to {male, female}."
  },
  {
   "metadata": {},
   "cell_type": "markdown",
   "source": "This can be achieved by converting the variable `SEX` type to `category`:"
  },
  {
   "cell_type": "code",
   "source": [
    "# convert 'SEX' [1,2]=>['male','female']\n",
    "fmh['SEX'] = fmh.SEX.astype('category').cat.rename_categories(['male', 'female'])\n",
    "# Density line can be added by setting `kde=True`\n",
    "sns.histplot(data=fmh,x='SYSBP', hue='SEX', kde=True);"
   ],
   "metadata": {
    "collapsed": false
   },
   "outputs": [],
   "execution_count": null
  },
  {
   "metadata": {},
   "cell_type": "markdown",
   "source": "### sns.boxplot"
  },
  {
   "cell_type": "code",
   "source": [
    "fig, axes = plt.subplots(1,2, figsize=(10,3))\n",
    "sns.boxplot(data=fmh,y='SYSBP', hue='SEX', ax=axes[0])\n",
    "sns.boxplot(data=fmh,y='DIABP', hue='SEX', ax=axes[1])\n",
    "# legends\n",
    "\n",
    "axes[0].legend(loc=\"upper left\")\n",
    "axes[1].legend(loc=\"upper left\");"
   ],
   "metadata": {
    "collapsed": false
   },
   "outputs": [],
   "execution_count": null
  },
  {
   "metadata": {},
   "cell_type": "markdown",
   "source": [
    "Via `axes` plot attributes can be modified see [Axes](https://matplotlib.org/stable/api/axes_api.html) for more details.\n",
    "\n",
    "### sns.kdeplot"
   ]
  },
  {
   "cell_type": "code",
   "source": [
    "# kernel density estimate\n",
    "ax = sns.kdeplot(data=fmh,x='SYSBP', hue='SEX', fill=True)\n",
    "ax.set_title('My density plot')"
   ],
   "metadata": {
    "collapsed": false
   },
   "outputs": [],
   "execution_count": null
  },
  {
   "cell_type": "code",
   "source": [
    "# empirical cumulative distribution function\n",
    "sns.ecdfplot(data=fmh,x='SYSBP', hue='SEX');"
   ],
   "metadata": {
    "collapsed": false
   },
   "outputs": [],
   "execution_count": null
  },
  {
   "cell_type": "markdown",
   "source": [
    "### Bivariate plots\n",
    "\n",
    "- continious: scatter, lmp, regplot, hexplot, pair, kde (bivariate),\n",
    "- categorical : line, bar, point"
   ],
   "metadata": {
    "collapsed": false
   }
  },
  {
   "cell_type": "code",
   "source": [
    "# lineplot\n",
    "sns.lineplot(data=fmh, x='AGE', y='HEARTRTE');"
   ],
   "metadata": {
    "collapsed": false
   },
   "outputs": [],
   "execution_count": null
  },
  {
   "metadata": {},
   "cell_type": "markdown",
   "source": "**Exercise:** Implement `sns.ecdfplot` by calculating [ecdf](https://en.wikipedia.org/wiki/Empirical_distribution_function) and plotting using `sns.lineplot`."
  },
  {
   "metadata": {},
   "cell_type": "markdown",
   "source": "### sns.violinplot"
  },
  {
   "cell_type": "code",
   "source": [
    "# violinplot\n",
    "fig, axes = plt.subplots(1,2)\n",
    "fig.tight_layout()\n",
    "sns.violinplot(data=fmh,y='SYSBP', hue='SEX', ax=axes[0])\n",
    "sns.violinplot(data=fmh,y='DIABP', hue='SEX', ax=axes[1]);\n",
    "\n",
    "axes[0].legend(loc=\"upper left\")\n",
    "axes[1].legend(loc=\"upper left\");"
   ],
   "metadata": {
    "collapsed": false
   },
   "outputs": [],
   "execution_count": null
  },
  {
   "metadata": {},
   "cell_type": "markdown",
   "source": "### sns.barplot"
  },
  {
   "cell_type": "code",
   "source": [
    "# barplot\n",
    "plt.figure(figsize=(8,6))\n",
    "ax = sns.barplot(data=fmh, x='AGE', y='HEARTRTE')\n",
    "\n",
    "# # Overlapping labels\n",
    "# ax.tick_params(axis='x', labelsize=10, labelrotation = 45)\n",
    "# ax.tick_params(axis='y', labelsize=10)"
   ],
   "metadata": {
    "collapsed": false
   },
   "outputs": [],
   "execution_count": null
  },
  {
   "cell_type": "markdown",
   "source": [
    "### sns.scatterplot\n",
    "\n",
    "Scatterplot can also be created via `replot` which will be shown later, but to illustrate some arguments it is included here.\n",
    "\n",
    "**Synopsis:** nbsp; &nbsp;**<tt>scatterplot(data, x, y, hue, style, palette, s, c, alpha)</tt>\n",
    "- data : DataFrame\n",
    "- x,y :  variables of interest\n",
    "- hue :  categorical variable for colouring\n",
    "- style : point style\n",
    "- palette : colour scheme, e.g.  deep, muted, bright, pastel, dark, colorblind\n",
    "- kwargs : s, alpha"
   ],
   "metadata": {
    "collapsed": false
   }
  },
  {
   "cell_type": "code",
   "source": "sns.scatterplot(fmh, x='SYSBP', y='DIABP', hue='SEX',style='ANGINA', palette='colorblind', s=20, alpha=0.5);",
   "metadata": {
    "collapsed": false
   },
   "outputs": [],
   "execution_count": null
  },
  {
   "metadata": {},
   "cell_type": "markdown",
   "source": "### sns.histplot"
  },
  {
   "cell_type": "code",
   "source": [
    "# histplot\n",
    "sns.histplot(data=fmh,x='SYSBP',y='DIABP',  hue='SEX')"
   ],
   "metadata": {
    "collapsed": false
   },
   "outputs": [],
   "execution_count": null
  },
  {
   "metadata": {},
   "cell_type": "markdown",
   "source": "### sns.kdeplot"
  },
  {
   "cell_type": "code",
   "source": "sns.kdeplot(fmh, x='SYSBP', y='DIABP', cmap='Greys', fill=True); # cmap='Greys', fill=True",
   "metadata": {
    "collapsed": false
   },
   "outputs": [],
   "execution_count": null
  },
  {
   "cell_type": "code",
   "source": [
    "# combine kdeplot and histplot\n",
    "sns.kdeplot(fmh, x='SYSBP', y='DIABP', cmap='Greys')\n",
    "sns.histplot(data=fmh,x='SYSBP',y='DIABP',  hue='SEX', palette=\"colorblind\")"
   ],
   "metadata": {},
   "outputs": [],
   "execution_count": null
  },
  {
   "cell_type": "markdown",
   "source": [
    "\n",
    "### Figure of grid-level plots\n"
   ],
   "metadata": {
    "collapsed": false
   }
  },
  {
   "cell_type": "code",
   "source": [
    "# axes-level lm\n",
    "p =sns.regplot(fmh.sample(100), x='SYSBP', y='DIABP')"
   ],
   "metadata": {
    "collapsed": false
   },
   "outputs": [],
   "execution_count": null
  },
  {
   "cell_type": "code",
   "source": [
    "# FacetGrid\n",
    "p = sns.lmplot(fmh.sample(100), x='SYSBP', y='DIABP') # lowess requires statsmodels module ; line_kws={'color': 'red'}"
   ],
   "metadata": {
    "collapsed": false
   },
   "outputs": [],
   "execution_count": null
  },
  {
   "cell_type": "code",
   "source": [
    "# FacetGrid\n",
    "p = sns.relplot(fmh.sample(100), x='SYSBP', y='DIABP', row='SEX', col='EDUC', hue='ANGINA', style='CURSMOKE')"
   ],
   "metadata": {
    "collapsed": false
   },
   "outputs": [],
   "execution_count": null
  },
  {
   "cell_type": "code",
   "source": [
    "# JointGrid\n",
    "jg = sns.jointplot(fmh, x='SYSBP', y='DIABP', hue='SEX', kind='scatter') # 'scatter', 'hist', 'kde'\n",
    "                                                                        # see jg.plot_joint(...) and jg.plot_marginals(...)"
   ],
   "metadata": {
    "collapsed": false
   },
   "outputs": [],
   "execution_count": null
  },
  {
   "cell_type": "markdown",
   "source": [
    "### FacetGrid"
   ],
   "metadata": {
    "collapsed": false
   }
  },
  {
   "cell_type": "code",
   "source": [
    "fg = sns.FacetGrid(data=fmh,row='SEX', col='EDUC', hue=\"DEATH\")\n",
    "fg.map_dataframe(sns.scatterplot, x='SYSBP', y='DIABP')\n",
    "fg.add_legend()"
   ],
   "metadata": {
    "collapsed": false
   },
   "outputs": [],
   "execution_count": null
  },
  {
   "cell_type": "code",
   "source": "sns.pairplot(data=fmh[['AGE','BMI','SYSBP','DIABP']])",
   "metadata": {
    "collapsed": false
   },
   "outputs": [],
   "execution_count": null
  },
  {
   "cell_type": "code",
   "source": "sns.heatmap(fmh[['SYSBP','DIABP','AGE','BMI','HEARTRTE']].corr(), cmap=sns.color_palette('colorblind'))",
   "metadata": {
    "collapsed": false
   },
   "outputs": [],
   "execution_count": null
  },
  {
   "cell_type": "markdown",
   "source": [
    "See [palettes](https://seaborn.pydata.org/tutorial/color_palettes.html) for more  options."
   ],
   "metadata": {
    "collapsed": false
   }
  },
  {
   "cell_type": "code",
   "source": [
    "diamonds = pd.read_csv(\"data/diamonds.csv\")\n",
    "sns.heatmap(diamonds.select_dtypes(include=np.number).corr(),annot=True, linewidth=.01, cmap=sns.color_palette('colorblind'))"
   ],
   "metadata": {
    "collapsed": false
   },
   "outputs": [],
   "execution_count": null
  },
  {
   "metadata": {},
   "cell_type": "markdown",
   "source": [
    "## Exercise\n",
    "\n",
    "### Data : Natural gas consumption\n",
    "\n",
    "In the exercises on `pandas` we used the *Natural gas consumption in the Netherlands* dataset [CBS Open data StatLine](https://opendata.cbs.nl/statline/portal.html?_la=en&_catalog=CBS).  We will continue with the same dataset here for visualisation. We repeat the solution for the last exercise to include the `term` and `date` in our dataframe, but now all other columns of the data are also included. Some missing values are represented as `'       .'`, replace these with np.nan.\n",
    "\n",
    "\n",
    "1. Plot lines:\n",
    "\n",
    "- a) Plot yearly `TotalSupply_1` against `date` on yearly basis.\n",
    "- b) Draw a horizontal line to mark `TotalSupply_1` at the point where `TotalSupply_1` is just below to the latest observation.\n",
    "- c) Repeat (b) by taking the 2021 as the latest observation.\n",
    "\n",
    "\n",
    "2. The import/export variables are those with names starting with `Import` and `Export`. Plot Import/Export  against `date` for all import/export variables (Hint: reshape data). Make sure the legend is correctly placed. Set X and Y axis labels to `Year` (JJ) and `Natural gas (MCM)` respectively and set legend's label to `Import/Export`.\n",
    "\n",
    "3. Plot (point and lines) `TotalSupply_1` against `month` of all time. Note that you will need to summarise (use groupby/sum) on months of the entire dataset (MM only). Set X and Y axis labels to `Month` and `Natural gas (MCM)` respectively. Set `Month` axis ticks to represent month abbreviations. Hint: use calendar module to get month abbreviations.\n",
    "\n",
    "4. Plot boxplots of `TotalSupply_1` against `month` of all time. Set X and Y axis labels to `Month` and `Natural gas (MCM)` respectively. Set `Month` axis ticks to represent month abbreviations.\n",
    "\n",
    "5) Boxplots of import/export variables on year (JJ) basis in log10 scale. Set X and Y axis labels to `Natural gas (MCM)` and `Import/Export` respectively.\n"
   ]
  },
  {
   "metadata": {},
   "cell_type": "markdown",
   "source": "## Appendix"
  },
  {
   "metadata": {},
   "cell_type": "markdown",
   "source": [
    "###  Framingham Heart Study variables description\n",
    "\n",
    "- `RANDID`:  Unique identification number for each participant\n",
    "- `SEX`: Participant sex (1 = male, 2 = female)\n",
    "- `AGE`: age at examination (years)\n",
    "- `SYSBP`:  Systolic Blood Pressure (mean of last two of three measurements) (mmHg)\n",
    "- `DIABP`: Diastolic Blood Pressure (mean of last two of three measurements) (mmHg)\n",
    "- `BPMEDS`: Use of Anti-hypertensive medication at examination (0=not currently used, 1=currently in use)\n",
    "- `CURSMOKE`: Smoking (0=not currently, 1=currently)\n",
    "- `EDUC`:   Attained Education (1=school, 2=High school diploma, 3=some college, 4=college degree)\n",
    "- `BMI`: Body Mass Index ($weight_{kg}/height_{m}^{2}$)\n",
    "- `HEARTRATE`: heart rate (bpm)\n",
    "- `ANGINA`: Angina Pectoris\n",
    "- `HOSPMI`: Hospitalized Myocardial Infarction\n",
    "- `STROKE`:  Atherothrombotic infarction, Cerebral Embolism, Intracerebral Hemorrhage, Fatal Cerebrovascular Disease\n",
    "- `CVD`: Myocardial infarction, Fatal Coronary Heart Disease or Cerebrovascular Disease\n",
    "- `HYPERTEN`: Hypertensive\n",
    "- `DEATH`: Death from any cause\n",
    "\n",
    "\n",
    "### Useful links\n",
    "\n",
    "\n",
    "| Library | Best For | Official Link |\n",
    "| --- | --- | --- |\n",
    "| Matplotlib | General-purpose 2D plotting | [Matplotlib](https://matplotlib.org/) |\n",
    "| Seaborn | Statistical visualizations | [Seaborn](https://seaborn.pydata.org/) |\n",
    "| Plotly | Interactive, web-based plots | [Plotly](https://plotly.com/python/) |\n",
    "| Bokeh | Interactive visualizations & dashboards | [Bokeh](https://bokeh.org/) |\n",
    "| Altair | Declarative plots for dataframes | [Altair](https://altair-viz.github.io/) |\n",
    "| Pandas | Fast, simple visualizations for pandas data | [Pandas](https://pandas.pydata.org/) |\n",
    "| Plotnine | Grammar-of-graphics plots | [Plotnine](https://plotnine.readthedocs.io/) |\n",
    "| HvPlot | High-level, interactive plotting | [hvPlot](https://hvplot.holoviz.org/) |\n",
    "| Holoviews | Simplified Python plotting | [Holoviews](https://holoviews.org/) |\n",
    "| Dash | Apps & dashboards with Plotly | [Dash](https://dash.plotly.com/) |\n",
    "| Pygal | SVG-based interactive charts | [Pygal](http://www.pygal.org/) |\n",
    "| Geopandas | Geographical data visualizations | [Geopandas](https://geopandas.org/) |\n",
    "| Cartopy | Geographic mapping | [Cartopy](https://scitools.org.uk/cartopy/docs/latest/) |\n",
    "| Datashader | Massive datasets visualization | [Datashader](https://datashader.org/) |\n",
    "| Mayavi | 3D scientific visualizations | [Mayavi](https://docs.enthought.com/mayavi/mayavi/) |\n",
    "| VisPy | High-performance visualizations | [VisPy](https://vispy.org/) |\n",
    "\n",
    "\n",
    "\n"
   ]
  }
 ],
 "metadata": {
  "kernelspec": {
   "display_name": "Python 3",
   "language": "python",
   "name": "python3"
  },
  "language_info": {
   "codemirror_mode": {
    "name": "ipython",
    "version": 2
   },
   "file_extension": ".py",
   "mimetype": "text/x-python",
   "name": "python",
   "nbconvert_exporter": "python",
   "pygments_lexer": "ipython2",
   "version": "2.7.6"
  }
 },
 "nbformat": 4,
 "nbformat_minor": 0
}
